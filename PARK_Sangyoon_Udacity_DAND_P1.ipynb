{
 "cells": [
  {
   "cell_type": "markdown",
   "metadata": {},
   "source": [
    "# P1: Test a Perceptual Phenomenon\n",
    "\n",
    "### Sangyoon Park | 14 FEB 2016"
   ]
  },
  {
   "cell_type": "markdown",
   "metadata": {},
   "source": [
    "#### 1. What is our independent variable? What is our dependent variable?"
   ]
  },
  {
   "cell_type": "markdown",
   "metadata": {},
   "source": [
    "Our independent variable is congruence/match between the name of a color word and the color in which it is printed. Hence, our independent variable has two levels: congruence (match) and incongruence (mismatch).\n",
    "\n",
    "Our dependent variable is the time it takes to name the ink colors in equally-sized lists. Hence, our dependent variable is a continuous variable."
   ]
  },
  {
   "cell_type": "markdown",
   "metadata": {},
   "source": [
    "#### 2. What is an appropriate set of hypotheses for this task? What kind of statistical test do you expect to perform? Justify your choices."
   ]
  },
  {
   "cell_type": "markdown",
   "metadata": {},
   "source": [
    "Our null hypothesis is that the task performance does not (statistically) differ between the congruent and incongruent conditions. Our alternative hypothesis is that the task performance (statistically) differs between the two conditions. In notation:\n",
    "\n",
    "$$ H_{0}: \\mu_{C} - \\mu_{I} = 0 $$\n",
    "$$ H_{A}: \\mu_{C} - \\mu_{I} ≠ 0 $$\n",
    "\n",
    "where $\\mu_{C}$ and $\\mu_{I}$ are population means for the congruent and incongruent conditions, respectively. Or, using $\\mu_{D} = \\mu_{C} - \\mu_{I}$:\n",
    "\n",
    "$$ H_{0}: \\mu_{D} = 0 $$\n",
    "$$ H_{A}: \\mu_{D} ≠ 0 $$\n",
    "\n",
    "Since we are comparing two different conditions *within* the same participants (i.e. repeated measures design), we need to employ the dependent samples t-test. This statistical test assumes the sample of differences is *approximately* normal [1]. Also, the t-test should be two-tailed as we do not have sufficient ground to presume a certain direction for the potential difference."
   ]
  },
  {
   "cell_type": "markdown",
   "metadata": {
    "collapsed": true
   },
   "source": [
    "#### 3. Report some descriptive statistics regarding this dataset. Include at least one measure of central tendency and at least one measure of variability."
   ]
  },
  {
   "cell_type": "code",
   "execution_count": 1,
   "metadata": {
    "collapsed": false
   },
   "outputs": [
    {
     "name": "stdout",
     "output_type": "stream",
     "text": [
      "< Congruent Condition >\n",
      "count    24.000000\n",
      "mean     14.051125\n",
      "std       3.559358\n",
      "min       8.630000\n",
      "25%      11.895250\n",
      "50%      14.356500\n",
      "75%      16.200750\n",
      "max      22.328000\n",
      "Name: Congruent, dtype: float64\n",
      "median     14.3565\n",
      "IQR         4.3055\n",
      "\n",
      "< Incongruent Condition >\n",
      "count    24.000000\n",
      "mean     22.015917\n",
      "std       4.797057\n",
      "min      15.687000\n",
      "25%      18.716750\n",
      "50%      21.017500\n",
      "75%      24.051500\n",
      "max      35.255000\n",
      "Name: Incongruent, dtype: float64\n",
      "median     21.0175\n",
      "IQR        5.33475\n",
      "\n",
      "< Difference >\n",
      "count    24.000000\n",
      "mean     -7.964792\n",
      "std       4.864827\n",
      "min     -21.919000\n",
      "25%     -10.258500\n",
      "50%      -7.666500\n",
      "75%      -3.645500\n",
      "max      -1.950000\n",
      "dtype: float64\n",
      "median     -7.6665\n",
      "IQR          6.613\n"
     ]
    }
   ],
   "source": [
    "import pandas as pd\n",
    "stroopdatad_df = pd.read_csv('stroopdata.csv')\n",
    "congruent = stroopdatad_df['Congruent']\n",
    "incongruent = stroopdatad_df['Incongruent']\n",
    "difference = stroopdatad_df['Congruent'] - stroopdatad_df['Incongruent']\n",
    "\n",
    "print '< Congruent Condition >'\n",
    "print congruent.describe()\n",
    "print 'median    ', congruent.median()\n",
    "print 'IQR        ', congruent.describe()['75%'] - congruent.describe()['25%']\n",
    "\n",
    "print '\\n< Incongruent Condition >'\n",
    "print incongruent.describe()\n",
    "print 'median    ', incongruent.median()\n",
    "print 'IQR       ', incongruent.describe()['75%'] - incongruent.describe()['25%']\n",
    "\n",
    "print '\\n< Difference >'\n",
    "print difference.describe()\n",
    "print 'median    ', difference.median()\n",
    "print 'IQR         ', difference.describe()['75%'] - difference.describe()['25%']"
   ]
  },
  {
   "cell_type": "markdown",
   "metadata": {},
   "source": [
    "To summarize:\n",
    "\n",
    "|          | Congruent | Incongruent | Difference |\n",
    "| --------:|:---------:|:-----------:|:----------:|\n",
    "| Mean     | 14.05     | 22.02       |  -7.96     |\n",
    "| Median   | 14.36     | 21.02       |  -7.67     |\n",
    "| Min      |  8.63     | 15.69       | -21.92     |\n",
    "| Max      | 22.33     | 35.26       |  -1.95     |\n",
    "| IQR      |  4.31     |  5.33       |   6.61     |\n",
    "| SD       |  3.56     |  4.80       |   4.86     |\n"
   ]
  },
  {
   "cell_type": "markdown",
   "metadata": {},
   "source": [
    "#### 4. Provide one or two visualizations that show the distribution of the sample data. Write one or two sentences noting what you observe about the plot or plots."
   ]
  },
  {
   "cell_type": "code",
   "execution_count": 2,
   "metadata": {
    "collapsed": false
   },
   "outputs": [
    {
     "data": {
      "image/png": "[encoded data removed]",
      "text/plain": [
       "<IPython.core.display.Image object>"
      ]
     },
     "execution_count": 2,
     "metadata": {},
     "output_type": "execute_result"
    }
   ],
   "source": [
    "# The following histograms were constructed through R\n",
    "# The script is included in the repo\n",
    "from IPython.display import Image\n",
    "Image(\"C:/Users/Sangyoon Park/Desktop/Udacity_DAND/P1/performance_hist.png\")"
   ]
  },
  {
   "cell_type": "markdown",
   "metadata": {},
   "source": [
    "Both congruent and incongruent conditions display an approximately normal distribution. However, it need to be noted that the incongruent condition has some unusual observations, which explains the larger variability in the incongruent condition."
   ]
  },
  {
   "cell_type": "code",
   "execution_count": 3,
   "metadata": {
    "collapsed": false
   },
   "outputs": [
    {
     "data": {
      "image/png": "[encoded data removed]",
      "text/plain": [
       "<IPython.core.display.Image object>"
      ]
     },
     "execution_count": 3,
     "metadata": {},
     "output_type": "execute_result"
    }
   ],
   "source": [
    "Image(\"C:/Users/Sangyoon Park/Desktop/Udacity_DAND/P1/difference_hist.png\")"
   ]
  },
  {
   "cell_type": "markdown",
   "metadata": {},
   "source": [
    "Although performance difference within each participant displays a negatively skewed distribution, the skew is not substantial and we can claim the distribution is *approximately* normal. Since the dependent t-test is \"robust\" to violations of normality [1], we proceed with our choice of the test."
   ]
  },
  {
   "cell_type": "markdown",
   "metadata": {},
   "source": [
    "#### 5. Now, perform the statistical test and report your results. What is your confidence level and your critical statistic value? Do you reject the null hypothesis or fail to reject it? Come to a conclusion in terms of the experiment task. Did the results match up with your expectations?"
   ]
  },
  {
   "cell_type": "markdown",
   "metadata": {},
   "source": [
    "The sample of performance differences has the size of $n = 24$, so its degrees of freedom is $df = 23$. With $\\alpha = .05$, the critical t-values are $t_{critical} = ±2.069$. Since the sample has the mean of $M = -7.96$ and standard deviation of $s = 4.86$, its t-statistic is $t = -8.02$. This produces the 95% confidence interval of $-7.96 ± 2.05 = (-10.01, -5.91)$. We see that the sample lies in the critical region, so we reject our null hypothesis. In other words, we conclude that the task performance significantly differs between the congruent and incongruent conditions. Specifically, the result shows lower performance in the incongruent condition and suggests that the stimuli mismatch negatively affects the task performance. This result is consistent with my initial expectation that mismatch between the word and the color in which it is printed will make it more difficult to name the color while match will make the task easier. Finally, the effect size was very large with $d = 1.64$."
   ]
  },
  {
   "cell_type": "markdown",
   "metadata": {},
   "source": [
    "#### 6. Optional: What do you think is responsible for the effects observed? Can you think of an alternative or similar task that would result in a similar effect? Some research about the problem will be helpful for thinking about these two questions!"
   ]
  },
  {
   "cell_type": "markdown",
   "metadata": {},
   "source": [
    "Although different theories exist that explain the Stroop effect, their common gist seems that two incongruent stimuli activate different cognitive representations which compete for the central attentional and executive functions [2]. This cognitive \"rivalry\" then results in impeded response behavior. In contrast, if the entering stimuli are congruent, then they help each other to reinforce activation of the common cognitive representation, resulting in unimpeded and even enhanced response behavior. The similar effect can be observed in a task where the participant evaluates inequality of two different numbers, the (numerically) larger of which is printed in a smaller font size [2]. Presented with the incongruence between numerical and physical inequalities, the participant tends to perform worse. The effect is also relevant to what social psychologists have observed through the implicit-association test (IAT), where task performance tends to deteriorate when a certain descriptive word (e.g., good) is presented in conjunction with a social stimulus that is often associated with the opposite descriptive word (e.g., the face of a black person) [3]."
   ]
  },
  {
   "cell_type": "markdown",
   "metadata": {},
   "source": [
    "### References\n",
    "* [1] A webpage illustrating assumptions of the dependent t-test: https://statistics.laerd.com/spss-tutorials/dependent-t-test-using-spss-statistics.php\n",
    "* [2] A Wikipedia page on the Stroop effect: https://en.wikipedia.org/wiki/Stroop_effect\n",
    "* [3] A YouTube video that demonstrates the IAT for racial prejudice: https://www.youtube.com/watch?v=n5Q5FQfXZag"
   ]
  }
 ],
 "metadata": {
  "kernelspec": {
   "display_name": "Python 2",
   "language": "python",
   "name": "python2"
  },
  "language_info": {
   "codemirror_mode": {
    "name": "ipython",
    "version": 2
   },
   "file_extension": ".py",
   "mimetype": "text/x-python",
   "name": "python",
   "nbconvert_exporter": "python",
   "pygments_lexer": "ipython2",
   "version": "2.7.11"
  }
 },
 "nbformat": 4,
 "nbformat_minor": 0
}
